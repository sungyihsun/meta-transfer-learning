{
 "cells": [
  {
   "cell_type": "code",
   "execution_count": 2,
   "metadata": {
    "Collapsed": "false"
   },
   "outputs": [],
   "source": [
    "from os import walk\n",
    "from os.path import join\n",
    "from sklearn.utils import shuffle\n",
    "path = '/media/volume1/Eason/Speech_Recognition/NER_Trs/'\n",
    "mypath = path\n",
    "wav = []\n",
    "txt = []\n",
    "# 遞迴列出所有檔案的絕對路徑\n",
    "for root, dirs, files in walk(mypath):\n",
    "    for f in files:\n",
    "        if f[-4:] == '.wav':\n",
    "            fullpath = join(root, f)\n",
    "            if 'Clean' in fullpath:\n",
    "                wav.append(fullpath)\n",
    "        elif f != 'lexicon.txt' and f != 'DA.txt' :\n",
    "            if f[-4:] == '.txt':\n",
    "                fullpath = join(root, f)\n",
    "                if 'Clean' in fullpath:\n",
    "                    txt.append(fullpath)"
   ]
  },
  {
   "cell_type": "code",
   "execution_count": 3,
   "metadata": {
    "Collapsed": "false"
   },
   "outputs": [],
   "source": [
    "NER_wav = wav\n",
    "NER_txt = txt"
   ]
  },
  {
   "cell_type": "code",
   "execution_count": 4,
   "metadata": {
    "Collapsed": "false"
   },
   "outputs": [],
   "source": [
    "path = '/media/volume1/Eason/Speech_Recognition/End-to-end-ASR-Pytorch/data/LibriSpeech'\n",
    "mypath = path\n",
    "flac = []\n",
    "txt = []\n",
    "# 遞迴列出所有檔案的絕對路徑\n",
    "for root, dirs, files in walk(mypath):\n",
    "    for f in files:\n",
    "        if f[-4:] == 'flac':\n",
    "            fullpath = join(root, f)\n",
    "            flac.append(fullpath)\n",
    "        elif f[-4:] == '.txt':\n",
    "            fullpath = join(root, f)\n",
    "            txt.append(fullpath)"
   ]
  },
  {
   "cell_type": "code",
   "execution_count": 5,
   "metadata": {
    "Collapsed": "false"
   },
   "outputs": [
    {
     "data": {
      "application/vnd.jupyter.widget-view+json": {
       "model_id": "dfd56f5a990943e3ada2dd7c3ff0272d",
       "version_major": 2,
       "version_minor": 0
      },
      "text/plain": [
       "HBox(children=(IntProgress(value=0, max=143679), HTML(value='')))"
      ]
     },
     "metadata": {},
     "output_type": "display_data"
    },
    {
     "name": "stdout",
     "output_type": "stream",
     "text": [
      "\n"
     ]
    }
   ],
   "source": [
    "from tqdm import tqdm_notebook as tqdm\n",
    "\n",
    "txt_for_flac = []\n",
    "for i in tqdm(range(len(flac))):\n",
    "    path = '/'.join(flac[i].split('/')[:-1])\n",
    "    filename = '-'.join(flac[i].split('/')[-1].split('-')[:-1])+'.trans.txt'\n",
    "    flac_filename = flac[i].split('/')[-1].split('.')[0]\n",
    "    with open(path + '/' +filename,'r') as fp:\n",
    "         all_lines = fp.readlines()\n",
    "    for j in range(len(all_lines)):\n",
    "        if flac_filename in all_lines[j]:\n",
    "            txt_for_flac.append(path + '/' +flac_filename+'.trans.txt')"
   ]
  },
  {
   "cell_type": "code",
   "execution_count": 6,
   "metadata": {
    "Collapsed": "false"
   },
   "outputs": [],
   "source": [
    "LibriSpeech_wav = flac\n",
    "LibriSpeech_txt = txt_for_flac"
   ]
  },
  {
   "cell_type": "code",
   "execution_count": 24,
   "metadata": {
    "Collapsed": "false"
   },
   "outputs": [],
   "source": [
    "txt_to_json = NER_txt"
   ]
  },
  {
   "cell_type": "code",
   "execution_count": 25,
   "metadata": {
    "Collapsed": "false"
   },
   "outputs": [
    {
     "data": {
      "application/vnd.jupyter.widget-view+json": {
       "model_id": "132b56210b9e46f89ece6a8be029cbcf",
       "version_major": 2,
       "version_minor": 0
      },
      "text/plain": [
       "HBox(children=(IntProgress(value=0, max=60842), HTML(value='')))"
      ]
     },
     "metadata": {},
     "output_type": "display_data"
    },
    {
     "name": "stdout",
     "output_type": "stream",
     "text": [
      "\n"
     ]
    },
    {
     "data": {
      "application/vnd.jupyter.widget-view+json": {
       "model_id": "9aeddd09e8b4420cb1591d604fad1c6a",
       "version_major": 2,
       "version_minor": 0
      },
      "text/plain": [
       "HBox(children=(IntProgress(value=0, max=60842), HTML(value='')))"
      ]
     },
     "metadata": {},
     "output_type": "display_data"
    },
    {
     "name": "stdout",
     "output_type": "stream",
     "text": [
      "\n"
     ]
    }
   ],
   "source": [
    "text = []\n",
    "for i in tqdm(range(len(txt_to_json))):\n",
    "    fp = open(txt_to_json[i], \"r\")\n",
    "    lines = fp.readlines()\n",
    "    fp.close()\n",
    "    text.append(lines)\n",
    "text_str = ''\n",
    "for i in tqdm(range(len(text))):\n",
    "    for j in text[i]:\n",
    "        text_str += j\n",
    "unique_word = ''.join(set(text_str))\n",
    "ner_labels = []\n",
    "for i in unique_word:\n",
    "    ner_labels.append(i)\n"
   ]
  },
  {
   "cell_type": "code",
   "execution_count": 10,
   "metadata": {
    "Collapsed": "false"
   },
   "outputs": [
    {
     "data": {
      "text/plain": [
       "4722"
      ]
     },
     "execution_count": 10,
     "metadata": {},
     "output_type": "execute_result"
    }
   ],
   "source": [
    "len(ner_labels)"
   ]
  },
  {
   "cell_type": "code",
   "execution_count": 23,
   "metadata": {
    "Collapsed": "false"
   },
   "outputs": [],
   "source": [
    "import json\n",
    "\n",
    "data = ner_labels\n",
    "ret = json.dumps(data)\n",
    "\n",
    "with open('../labels/LibriSpeech_ner_labels.json', 'w') as fp:\n",
    "    fp.write(ret)"
   ]
  },
  {
   "cell_type": "code",
   "execution_count": 21,
   "metadata": {
    "Collapsed": "false"
   },
   "outputs": [
    {
     "data": {
      "text/plain": [
       "['_', '祥', '舌', '底', '拔', '肢', '秃', '辜', '钛', '憔']"
      ]
     },
     "execution_count": 21,
     "metadata": {},
     "output_type": "execute_result"
    }
   ],
   "source": [
    "dict_data[:10]"
   ]
  },
  {
   "cell_type": "code",
   "execution_count": 22,
   "metadata": {
    "Collapsed": "false"
   },
   "outputs": [
    {
     "data": {
      "text/plain": [
       "['偶', '闆', '乁', '腦', '飴', '閩', '埔', '丕', '嘮', '餚']"
      ]
     },
     "execution_count": 22,
     "metadata": {},
     "output_type": "execute_result"
    }
   ],
   "source": [
    "ner_labels[:10]"
   ]
  },
  {
   "cell_type": "code",
   "execution_count": 26,
   "metadata": {
    "Collapsed": "false"
   },
   "outputs": [],
   "source": [
    "import json\n",
    "\n",
    "data = ner_labels\n",
    "ret = json.dumps(data)\n",
    "\n",
    "with open('../labels/ner_labels.json', 'w') as fp:\n",
    "    fp.write(ret)"
   ]
  },
  {
   "cell_type": "code",
   "execution_count": 27,
   "metadata": {
    "Collapsed": "false"
   },
   "outputs": [
    {
     "data": {
      "text/plain": [
       "4716"
      ]
     },
     "execution_count": 27,
     "metadata": {},
     "output_type": "execute_result"
    }
   ],
   "source": [
    "len(data)"
   ]
  },
  {
   "cell_type": "code",
   "execution_count": null,
   "metadata": {
    "Collapsed": "false"
   },
   "outputs": [],
   "source": []
  }
 ],
 "metadata": {
  "kernelspec": {
   "display_name": "Python 3",
   "language": "python",
   "name": "python3"
  },
  "language_info": {
   "codemirror_mode": {
    "name": "ipython",
    "version": 3
   },
   "file_extension": ".py",
   "mimetype": "text/x-python",
   "name": "python",
   "nbconvert_exporter": "python",
   "pygments_lexer": "ipython3",
   "version": "3.6.9"
  }
 },
 "nbformat": 4,
 "nbformat_minor": 4
}
