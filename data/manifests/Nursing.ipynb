{
 "cells": [
  {
   "cell_type": "code",
   "execution_count": 10,
   "metadata": {
    "Collapsed": "false"
   },
   "outputs": [],
   "source": [
    "from os import walk\n",
    "from os.path import join\n",
    "from sklearn.utils import shuffle\n",
    "mypath = '/media/share/Eason/speech2txet/meta-transfer-learning/data/manifests/Nursing/wav'\n",
    "wav = []\n",
    "# 遞迴列出所有檔案的絕對路徑\n",
    "for root, dirs, files in walk(mypath):\n",
    "    for f in files:\n",
    "        if f[-4:] == '.wav':\n",
    "            fullpath = join(root, f)\n",
    "            wav.append(fullpath)"
   ]
  },
  {
   "cell_type": "code",
   "execution_count": 11,
   "metadata": {
    "Collapsed": "false"
   },
   "outputs": [
    {
     "data": {
      "text/plain": [
       "'/media/share/Eason/speech2txet/meta-transfer-learning/data/manifests/Nursing/txt/1_1.txt'"
      ]
     },
     "execution_count": 11,
     "metadata": {},
     "output_type": "execute_result"
    }
   ],
   "source": [
    "wav[0].replace('wav','txt')"
   ]
  },
  {
   "cell_type": "code",
   "execution_count": 6,
   "metadata": {
    "Collapsed": "false"
   },
   "outputs": [],
   "source": [
    "Nursing_label = '/media/share/Eason/speech2txet/code_mix/tasks/NER/NER_split/Nursing_ys.txt'\n",
    "with open(Nursing_label,'r') as fp:\n",
    "     all_lines = fp.readlines()"
   ]
  },
  {
   "cell_type": "code",
   "execution_count": 14,
   "metadata": {
    "Collapsed": "false"
   },
   "outputs": [],
   "source": [
    "for i in range(len(wav)):\n",
    "    filename = wav[i].replace('wav','txt')\n",
    "    with open(filename,'w') as wf:\n",
    "        wf.write(all_lines[i])"
   ]
  },
  {
   "cell_type": "code",
   "execution_count": 22,
   "metadata": {
    "Collapsed": "false"
   },
   "outputs": [],
   "source": [
    "mypath = '/media/share/Eason/speech2txet/meta-transfer-learning/data/manifests/Nursing/txt'\n",
    "txt = []\n",
    "# 遞迴列出所有檔案的絕對路徑\n",
    "for root, dirs, files in walk(mypath):\n",
    "    for f in files:\n",
    "        if f[-4:] == '.txt':\n",
    "            fullpath = join(root, f)\n",
    "            txt.append(fullpath)"
   ]
  },
  {
   "cell_type": "code",
   "execution_count": 25,
   "metadata": {
    "Collapsed": "false"
   },
   "outputs": [],
   "source": [
    "import pandas as pd\n",
    "Nursing = pd.DataFrame([wav,txt]).T"
   ]
  },
  {
   "cell_type": "code",
   "execution_count": 26,
   "metadata": {
    "Collapsed": "false"
   },
   "outputs": [],
   "source": [
    "name = 'Nursing'\n",
    "Nursing_shuffle = shuffle(Nursing).reset_index(drop=True)\n",
    "L = len(Nursing_shuffle)\n",
    "train = Nursing_shuffle[:int(L*0.7)].reset_index(drop=True)\n",
    "val = Nursing_shuffle[int(L*0.7):int(L*0.8)].reset_index(drop=True)\n",
    "test = Nursing_shuffle[int(L*0.8):].reset_index(drop=True)\n",
    "\n",
    "train.to_csv(name + '_train.csv',index=False,header=None)\n",
    "val.to_csv(name + '_val.csv',index=False,header=None)\n",
    "test.to_csv(name + '_test.csv',index=False,header=None)"
   ]
  },
  {
   "cell_type": "code",
   "execution_count": null,
   "metadata": {
    "Collapsed": "false"
   },
   "outputs": [],
   "source": []
  }
 ],
 "metadata": {
  "kernelspec": {
   "display_name": "Python 3",
   "language": "python",
   "name": "python3"
  },
  "language_info": {
   "codemirror_mode": {
    "name": "ipython",
    "version": 3
   },
   "file_extension": ".py",
   "mimetype": "text/x-python",
   "name": "python",
   "nbconvert_exporter": "python",
   "pygments_lexer": "ipython3",
   "version": "3.6.9"
  }
 },
 "nbformat": 4,
 "nbformat_minor": 4
}
