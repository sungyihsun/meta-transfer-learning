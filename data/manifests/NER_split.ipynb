{
 "cells": [
  {
   "cell_type": "markdown",
   "metadata": {
    "Collapsed": "false"
   },
   "source": [
    "## CSV"
   ]
  },
  {
   "cell_type": "code",
   "execution_count": 164,
   "metadata": {
    "Collapsed": "false"
   },
   "outputs": [],
   "source": [
    "import pandas as pd\n",
    "from tqdm import tqdm_notebook as tqdm"
   ]
  },
  {
   "cell_type": "code",
   "execution_count": 165,
   "metadata": {
    "Collapsed": "false"
   },
   "outputs": [],
   "source": [
    "seame_phaseII_val_manifest = pd.read_csv('seame_phaseII_val_manifest.csv',header = None)"
   ]
  },
  {
   "cell_type": "code",
   "execution_count": 166,
   "metadata": {
    "Collapsed": "false"
   },
   "outputs": [
    {
     "data": {
      "text/html": [
       "<div>\n",
       "<style scoped>\n",
       "    .dataframe tbody tr th:only-of-type {\n",
       "        vertical-align: middle;\n",
       "    }\n",
       "\n",
       "    .dataframe tbody tr th {\n",
       "        vertical-align: top;\n",
       "    }\n",
       "\n",
       "    .dataframe thead th {\n",
       "        text-align: right;\n",
       "    }\n",
       "</style>\n",
       "<table border=\"1\" class=\"dataframe\">\n",
       "  <thead>\n",
       "    <tr style=\"text-align: right;\">\n",
       "      <th></th>\n",
       "      <th>0</th>\n",
       "      <th>1</th>\n",
       "    </tr>\n",
       "  </thead>\n",
       "  <tbody>\n",
       "    <tr>\n",
       "      <th>0</th>\n",
       "      <td>data/SEAME_PhaseII_dataset//parts/conversation...</td>\n",
       "      <td>data/SEAME_PhaseII_dataset//parts/conversation...</td>\n",
       "    </tr>\n",
       "    <tr>\n",
       "      <th>1</th>\n",
       "      <td>data/SEAME_PhaseII_dataset//parts/conversation...</td>\n",
       "      <td>data/SEAME_PhaseII_dataset//parts/conversation...</td>\n",
       "    </tr>\n",
       "    <tr>\n",
       "      <th>2</th>\n",
       "      <td>data/SEAME_PhaseII_dataset//parts/conversation...</td>\n",
       "      <td>data/SEAME_PhaseII_dataset//parts/conversation...</td>\n",
       "    </tr>\n",
       "    <tr>\n",
       "      <th>3</th>\n",
       "      <td>data/SEAME_PhaseII_dataset//parts/conversation...</td>\n",
       "      <td>data/SEAME_PhaseII_dataset//parts/conversation...</td>\n",
       "    </tr>\n",
       "    <tr>\n",
       "      <th>4</th>\n",
       "      <td>data/SEAME_PhaseII_dataset//parts/conversation...</td>\n",
       "      <td>data/SEAME_PhaseII_dataset//parts/conversation...</td>\n",
       "    </tr>\n",
       "  </tbody>\n",
       "</table>\n",
       "</div>"
      ],
      "text/plain": [
       "                                                   0  \\\n",
       "0  data/SEAME_PhaseII_dataset//parts/conversation...   \n",
       "1  data/SEAME_PhaseII_dataset//parts/conversation...   \n",
       "2  data/SEAME_PhaseII_dataset//parts/conversation...   \n",
       "3  data/SEAME_PhaseII_dataset//parts/conversation...   \n",
       "4  data/SEAME_PhaseII_dataset//parts/conversation...   \n",
       "\n",
       "                                                   1  \n",
       "0  data/SEAME_PhaseII_dataset//parts/conversation...  \n",
       "1  data/SEAME_PhaseII_dataset//parts/conversation...  \n",
       "2  data/SEAME_PhaseII_dataset//parts/conversation...  \n",
       "3  data/SEAME_PhaseII_dataset//parts/conversation...  \n",
       "4  data/SEAME_PhaseII_dataset//parts/conversation...  "
      ]
     },
     "execution_count": 166,
     "metadata": {},
     "output_type": "execute_result"
    }
   ],
   "source": [
    "seame_phaseII_val_manifest.head()"
   ]
  },
  {
   "cell_type": "code",
   "execution_count": 272,
   "metadata": {
    "Collapsed": "false"
   },
   "outputs": [],
   "source": [
    "path = '/media/volume1/Eason/Speech_Recognition/NER_Trs/'\n",
    "name = 'ner'"
   ]
  },
  {
   "cell_type": "code",
   "execution_count": 273,
   "metadata": {
    "Collapsed": "false"
   },
   "outputs": [],
   "source": [
    "mypath = path\n",
    "wav = []\n",
    "txt = []\n",
    "# 遞迴列出所有檔案的絕對路徑\n",
    "for root, dirs, files in walk(mypath):\n",
    "    for f in files:\n",
    "        if f[-4:] == '.wav':\n",
    "            fullpath = join(root, f)\n",
    "            if 'Clean' in fullpath:\n",
    "                wav.append(fullpath)\n",
    "        elif f != 'lexicon.txt' and f != 'DA.txt' :\n",
    "            if f[-4:] == '.txt':\n",
    "                fullpath = join(root, f)\n",
    "                if 'Clean' in fullpath:\n",
    "                    txt.append(fullpath)"
   ]
  },
  {
   "cell_type": "code",
   "execution_count": 254,
   "metadata": {
    "Collapsed": "false"
   },
   "outputs": [],
   "source": [
    "from os import walk\n",
    "from os.path import join\n",
    "from sklearn.utils import shuffle\n",
    "\n",
    "# 指定要列出所有檔案的目錄\n",
    "mypath = path\n",
    "wav = []\n",
    "txt = []\n",
    "# 遞迴列出所有檔案的絕對路徑\n",
    "for root, dirs, files in walk(mypath):\n",
    "    for f in files:\n",
    "        if f[-4:] == '.wav':\n",
    "            fullpath = join(root, f)\n",
    "            if 'Clean' in fullpath:\n",
    "                wav.append(fullpath)\n",
    "        elif f != 'lexicon.txt' and f != 'DA.txt' :\n",
    "            if f[-4:] == '.txt':\n",
    "                fullpath = join(root, f)\n",
    "                if 'Clean' in fullpath:\n",
    "                    txt.append(fullpath)\n",
    "for i in tqdm(range(len(txt))):\n",
    "    if wav[i].split('/')[-1].split('.')[0] != txt[i].split('/')[-1].split('.')[0]:\n",
    "        print(wav[i])\n",
    "        print(txt[i])\n",
    "NER = pd.DataFrame([wav,txt]).T\n",
    "NER_shuffle = shuffle(NER).reset_index(drop=True)\n",
    "L = len(NER_shuffle)\n",
    "train = NER_shuffle[:int(L*0.7)].reset_index(drop=True)\n",
    "val = NER_shuffle[int(L*0.7):int(L*0.8)].reset_index(drop=True)\n",
    "test = NER_shuffle[int(L*0.8):].reset_index(drop=True)\n",
    "\n",
    "train.to_csv(name + '_train.csv',index=False,header=None)\n",
    "val.to_csv(name + '_val.csv',index=False,header=None)\n",
    "test.to_csv(name + '_test.csv',index=False,header=None)"
   ]
  },
  {
   "cell_type": "code",
   "execution_count": 214,
   "metadata": {
    "Collapsed": "false"
   },
   "outputs": [
    {
     "data": {
      "application/vnd.jupyter.widget-view+json": {
       "model_id": "a29d76dbe43b4a899935c1143fce2f70",
       "version_major": 2,
       "version_minor": 0
      },
      "text/plain": [
       "HBox(children=(IntProgress(value=0, max=60842), HTML(value='')))"
      ]
     },
     "metadata": {},
     "output_type": "display_data"
    },
    {
     "name": "stdout",
     "output_type": "stream",
     "text": [
      "\n"
     ]
    }
   ],
   "source": [
    "for i in tqdm(range(len(txt))):\n",
    "    if wav[i].split('/')[-1].split('.')[0] != txt[i].split('/')[-1].split('.')[0]:\n",
    "        print(wav[i])\n",
    "        print(txt[i])"
   ]
  },
  {
   "cell_type": "code",
   "execution_count": 215,
   "metadata": {
    "Collapsed": "false"
   },
   "outputs": [],
   "source": [
    "NER = pd.DataFrame([wav,txt]).T"
   ]
  },
  {
   "cell_type": "code",
   "execution_count": 216,
   "metadata": {
    "Collapsed": "false"
   },
   "outputs": [],
   "source": [
    "from sklearn.utils import shuffle\n",
    "NER_shuffle = shuffle(NER).reset_index(drop=True)"
   ]
  },
  {
   "cell_type": "code",
   "execution_count": 217,
   "metadata": {
    "Collapsed": "false"
   },
   "outputs": [
    {
     "data": {
      "text/plain": [
       "'/media/volume1/Eason/Speech_Recognition/NER_Trs/NER-Trs-Vol5-train/Clean/Wav/TT/20180307/TT_20180307_211.wav'"
      ]
     },
     "execution_count": 217,
     "metadata": {},
     "output_type": "execute_result"
    }
   ],
   "source": [
    "NER_shuffle[0][0]"
   ]
  },
  {
   "cell_type": "code",
   "execution_count": 218,
   "metadata": {
    "Collapsed": "false"
   },
   "outputs": [],
   "source": [
    "L = len(NER_shuffle)\n",
    "train = NER_shuffle[:int(L*0.7)].reset_index(drop=True)\n",
    "val = NER_shuffle[int(L*0.7):int(L*0.8)].reset_index(drop=True)\n",
    "test = NER_shuffle[int(L*0.8):].reset_index(drop=True)"
   ]
  },
  {
   "cell_type": "code",
   "execution_count": 219,
   "metadata": {
    "Collapsed": "false"
   },
   "outputs": [],
   "source": [
    "train.to_csv('ner_v1tov10_train.csv',index=False,header=None)\n",
    "val.to_csv('ner_v1tov10_val.csv',index=False,header=None)\n",
    "test.to_csv('ner_v1tov10_test.csv',index=False,header=None)"
   ]
  },
  {
   "cell_type": "code",
   "execution_count": 289,
   "metadata": {
    "Collapsed": "false"
   },
   "outputs": [],
   "source": [
    "for i in range(len(test)):\n",
    "    with open(test[1][i],'r') as fp:\n",
    "        all_lines = fp.readlines()\n",
    "    if '新制' in all_lines:\n",
    "        print(i)"
   ]
  },
  {
   "cell_type": "code",
   "execution_count": 270,
   "metadata": {
    "Collapsed": "false"
   },
   "outputs": [
    {
     "data": {
      "text/plain": [
       "'/media/volume1/Eason/Speech_Recognition/NER_Trs/NER-Trs-Vol6-train/Clean/Wav/CQ/20180904/CQ_20180904_056.wav'"
      ]
     },
     "execution_count": 270,
     "metadata": {},
     "output_type": "execute_result"
    }
   ],
   "source": [
    "test[0][12]"
   ]
  },
  {
   "cell_type": "markdown",
   "metadata": {
    "Collapsed": "false"
   },
   "source": [
    "## JSON"
   ]
  },
  {
   "cell_type": "code",
   "execution_count": 274,
   "metadata": {
    "Collapsed": "false"
   },
   "outputs": [
    {
     "data": {
      "application/vnd.jupyter.widget-view+json": {
       "model_id": "4d6950d4f691409fa3af11208877158f",
       "version_major": 2,
       "version_minor": 0
      },
      "text/plain": [
       "HBox(children=(IntProgress(value=0, max=60842), HTML(value='')))"
      ]
     },
     "metadata": {},
     "output_type": "display_data"
    },
    {
     "name": "stdout",
     "output_type": "stream",
     "text": [
      "\n"
     ]
    }
   ],
   "source": [
    "text = []\n",
    "for i in tqdm(range(len(txt))):\n",
    "    fp = open(txt[i], \"r\")\n",
    "    lines = fp.readlines()\n",
    "    fp.close()\n",
    "    text.append(lines)"
   ]
  },
  {
   "cell_type": "code",
   "execution_count": 275,
   "metadata": {
    "Collapsed": "false"
   },
   "outputs": [
    {
     "data": {
      "application/vnd.jupyter.widget-view+json": {
       "model_id": "b5ed94ab316248678bd3be1f6a2403a5",
       "version_major": 2,
       "version_minor": 0
      },
      "text/plain": [
       "HBox(children=(IntProgress(value=0, max=60842), HTML(value='')))"
      ]
     },
     "metadata": {},
     "output_type": "display_data"
    },
    {
     "name": "stdout",
     "output_type": "stream",
     "text": [
      "\n"
     ]
    }
   ],
   "source": [
    "text_str = ''\n",
    "for i in tqdm(range(len(text))):\n",
    "    for j in text[i]:\n",
    "        text_str += j"
   ]
  },
  {
   "cell_type": "code",
   "execution_count": 276,
   "metadata": {
    "Collapsed": "false"
   },
   "outputs": [],
   "source": [
    "unique_word = ''.join(set(text_str))"
   ]
  },
  {
   "cell_type": "code",
   "execution_count": 277,
   "metadata": {
    "Collapsed": "false"
   },
   "outputs": [],
   "source": [
    "ner_labels = []\n",
    "for i in unique_word:\n",
    "    ner_labels.append(i)"
   ]
  },
  {
   "cell_type": "code",
   "execution_count": 278,
   "metadata": {
    "Collapsed": "false"
   },
   "outputs": [],
   "source": [
    "import json\n",
    "\n",
    "data = ner_labels\n",
    "ret = json.dumps(data)\n",
    "\n",
    "with open('../labels/ner_labels.json', 'w') as fp:\n",
    "    fp.write(ret)"
   ]
  },
  {
   "cell_type": "code",
   "execution_count": 267,
   "metadata": {
    "Collapsed": "false"
   },
   "outputs": [
    {
     "data": {
      "application/vnd.jupyter.widget-view+json": {
       "model_id": "59adf8e90a7b43c982a1d2121809938a",
       "version_major": 2,
       "version_minor": 0
      },
      "text/plain": [
       "HBox(children=(IntProgress(value=0, max=12169), HTML(value='')))"
      ]
     },
     "metadata": {},
     "output_type": "display_data"
    },
    {
     "name": "stdout",
     "output_type": "stream",
     "text": [
      "\n"
     ]
    }
   ],
   "source": [
    "import torchaudio\n",
    "for i in tqdm(range(len(test[0]))):\n",
    "    try:\n",
    "        path = test[0][i]\n",
    "        sound, _ = torchaudio.load(path, normalization=True)\n",
    "    except:\n",
    "        print('='*50)\n",
    "        print(path)\n",
    "        print('='*50)"
   ]
  },
  {
   "cell_type": "code",
   "execution_count": null,
   "metadata": {
    "Collapsed": "false"
   },
   "outputs": [],
   "source": []
  }
 ],
 "metadata": {
  "kernelspec": {
   "display_name": "Python 3",
   "language": "python",
   "name": "python3"
  },
  "language_info": {
   "codemirror_mode": {
    "name": "ipython",
    "version": 3
   },
   "file_extension": ".py",
   "mimetype": "text/x-python",
   "name": "python",
   "nbconvert_exporter": "python",
   "pygments_lexer": "ipython3",
   "version": "3.6.9"
  }
 },
 "nbformat": 4,
 "nbformat_minor": 4
}
