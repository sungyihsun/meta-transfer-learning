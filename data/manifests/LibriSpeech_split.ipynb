{
 "cells": [
  {
   "cell_type": "code",
   "execution_count": 1,
   "metadata": {
    "Collapsed": "false"
   },
   "outputs": [],
   "source": [
    "from os import walk\n",
    "from os.path import join\n",
    "from sklearn.utils import shuffle\n",
    "\n",
    "path = '/media/volume1/Eason/Speech_Recognition/End-to-end-ASR-Pytorch/data/LibriSpeech'\n",
    "mypath = path\n",
    "flac = []\n",
    "txt = []\n",
    "# 遞迴列出所有檔案的絕對路徑\n",
    "for root, dirs, files in walk(mypath):\n",
    "    for f in files:\n",
    "        if f[-4:] == 'flac':\n",
    "            fullpath = join(root, f)\n",
    "            flac.append(fullpath)\n",
    "        elif f[-4:] == '.txt':\n",
    "            fullpath = join(root, f)\n",
    "            txt.append(fullpath)"
   ]
  },
  {
   "cell_type": "code",
   "execution_count": 2,
   "metadata": {
    "Collapsed": "false"
   },
   "outputs": [
    {
     "data": {
      "text/plain": [
       "['/media/volume1/Eason/Speech_Recognition/End-to-end-ASR-Pytorch/data/LibriSpeech/dev-clean/2277/149896/2277-149896-0026.flac',\n",
       " '/media/volume1/Eason/Speech_Recognition/End-to-end-ASR-Pytorch/data/LibriSpeech/dev-clean/2277/149896/2277-149896-0005.flac',\n",
       " '/media/volume1/Eason/Speech_Recognition/End-to-end-ASR-Pytorch/data/LibriSpeech/dev-clean/2277/149896/2277-149896-0033.flac',\n",
       " '/media/volume1/Eason/Speech_Recognition/End-to-end-ASR-Pytorch/data/LibriSpeech/dev-clean/2277/149896/2277-149896-0006.flac',\n",
       " '/media/volume1/Eason/Speech_Recognition/End-to-end-ASR-Pytorch/data/LibriSpeech/dev-clean/2277/149896/2277-149896-0018.flac']"
      ]
     },
     "execution_count": 2,
     "metadata": {},
     "output_type": "execute_result"
    }
   ],
   "source": [
    "flac[:5]"
   ]
  },
  {
   "cell_type": "code",
   "execution_count": 3,
   "metadata": {
    "Collapsed": "false"
   },
   "outputs": [
    {
     "data": {
      "text/plain": [
       "['/media/volume1/Eason/Speech_Recognition/End-to-end-ASR-Pytorch/data/LibriSpeech/librispeech-lm-norm.txt',\n",
       " '/media/volume1/Eason/Speech_Recognition/End-to-end-ASR-Pytorch/data/LibriSpeech/dev-clean/2277/149896/2277-149896.trans.txt',\n",
       " '/media/volume1/Eason/Speech_Recognition/End-to-end-ASR-Pytorch/data/LibriSpeech/dev-clean/2277/149896/2277-149896-0026.trans.txt',\n",
       " '/media/volume1/Eason/Speech_Recognition/End-to-end-ASR-Pytorch/data/LibriSpeech/dev-clean/2277/149896/2277-149896-0005.trans.txt',\n",
       " '/media/volume1/Eason/Speech_Recognition/End-to-end-ASR-Pytorch/data/LibriSpeech/dev-clean/2277/149896/2277-149896-0033.trans.txt']"
      ]
     },
     "execution_count": 3,
     "metadata": {},
     "output_type": "execute_result"
    }
   ],
   "source": [
    "txt[:5]"
   ]
  },
  {
   "cell_type": "code",
   "execution_count": 9,
   "metadata": {
    "Collapsed": "false"
   },
   "outputs": [],
   "source": [
    "with open(txt[1],'r') as fp:\n",
    "     all_lines = fp.readlines()"
   ]
  },
  {
   "cell_type": "code",
   "execution_count": 12,
   "metadata": {
    "Collapsed": "false"
   },
   "outputs": [
    {
     "data": {
      "text/plain": [
       "'/media/volume1/Eason/Speech_Recognition/End-to-end-ASR-Pytorch/data/LibriSpeech/dev-clean/2277/149896/2277-149896.trans.txt'"
      ]
     },
     "execution_count": 12,
     "metadata": {},
     "output_type": "execute_result"
    }
   ],
   "source": [
    "txt[1]"
   ]
  },
  {
   "cell_type": "code",
   "execution_count": 11,
   "metadata": {
    "Collapsed": "false"
   },
   "outputs": [
    {
     "data": {
      "text/plain": [
       "\"2277-149896-0000 HE WAS IN A FEVERED STATE OF MIND OWING TO THE BLIGHT HIS WIFE'S ACTION THREATENED TO CAST UPON HIS ENTIRE FUTURE\\n\""
      ]
     },
     "execution_count": 11,
     "metadata": {},
     "output_type": "execute_result"
    }
   ],
   "source": [
    "all_lines[0]"
   ]
  },
  {
   "cell_type": "code",
   "execution_count": 4,
   "metadata": {
    "Collapsed": "false"
   },
   "outputs": [
    {
     "data": {
      "application/vnd.jupyter.widget-view+json": {
       "model_id": "f7ed15309cca40d5b506163a32310063",
       "version_major": 2,
       "version_minor": 0
      },
      "text/plain": [
       "HBox(children=(IntProgress(value=0, max=143679), HTML(value='')))"
      ]
     },
     "metadata": {},
     "output_type": "display_data"
    },
    {
     "name": "stdout",
     "output_type": "stream",
     "text": [
      "\n"
     ]
    }
   ],
   "source": [
    "from tqdm import tqdm_notebook as tqdm\n",
    "\n",
    "txt_for_flac = []\n",
    "for i in tqdm(range(len(flac))):\n",
    "    path = '/'.join(flac[i].split('/')[:-1])\n",
    "    filename = '-'.join(flac[i].split('/')[-1].split('-')[:-1])+'.trans.txt'\n",
    "    flac_filename = flac[i].split('/')[-1].split('.')[0]\n",
    "    with open(path + '/' +filename,'r') as fp:\n",
    "         all_lines = fp.readlines()\n",
    "    for j in range(len(all_lines)):\n",
    "        if flac_filename in all_lines[j]:\n",
    "            #print(' '.join(all_lines[j].split(' ')[1:]))\n",
    "            with open(path + '/' +flac_filename+'.trans.txt','w') as wf:\n",
    "                wf.write(' '.join(all_lines[j].split(' ')[1:]))\n",
    "            txt_for_flac.append(path + '/' +flac_filename+'.trans.txt')"
   ]
  },
  {
   "cell_type": "code",
   "execution_count": 5,
   "metadata": {
    "Collapsed": "false"
   },
   "outputs": [
    {
     "data": {
      "application/vnd.jupyter.widget-view+json": {
       "model_id": "ac530d36f11f4dc3839be88e513c7cd8",
       "version_major": 2,
       "version_minor": 0
      },
      "text/plain": [
       "HBox(children=(IntProgress(value=0, max=143679), HTML(value='')))"
      ]
     },
     "metadata": {},
     "output_type": "display_data"
    },
    {
     "name": "stdout",
     "output_type": "stream",
     "text": [
      "\n"
     ]
    }
   ],
   "source": [
    "for i in tqdm(range(len(txt_for_flac))):\n",
    "    if flac[i].split('/')[-1].split('.')[0] != txt_for_flac[i].split('/')[-1].split('.')[0]:\n",
    "        print(flac[i])\n",
    "        print(txt_for_flac[i])"
   ]
  },
  {
   "cell_type": "code",
   "execution_count": 53,
   "metadata": {
    "Collapsed": "false"
   },
   "outputs": [
    {
     "data": {
      "text/plain": [
       "'/media/volume1/Eason/Speech_Recognition/End-to-end-ASR-Pytorch/data/LibriSpeech/train-clean-360/548/126959/548-126959-0059.flac'"
      ]
     },
     "execution_count": 53,
     "metadata": {},
     "output_type": "execute_result"
    }
   ],
   "source": [
    "import pandas as pd\n",
    "LibriSpeech = pd.DataFrame([flac,txt_for_flac]).T\n",
    "LibriSpeech_shuffle = shuffle(LibriSpeech).reset_index(drop=True)\n",
    "LibriSpeech_shuffle[0][0]"
   ]
  },
  {
   "cell_type": "code",
   "execution_count": 54,
   "metadata": {
    "Collapsed": "false"
   },
   "outputs": [],
   "source": [
    "L = len(LibriSpeech_shuffle)\n",
    "train = LibriSpeech_shuffle[:int(L*0.7)].reset_index(drop=True)\n",
    "val = LibriSpeech_shuffle[int(L*0.7):int(L*0.8)].reset_index(drop=True)\n",
    "test = LibriSpeech_shuffle[int(L*0.8):].reset_index(drop=True)\n",
    "name = 'LibriSpeech'\n",
    "train.to_csv(name + '_train.csv',index=False,header=None)\n",
    "val.to_csv(name + '_val.csv',index=False,header=None)\n",
    "test.to_csv(name + '_test.csv',index=False,header=None)"
   ]
  },
  {
   "cell_type": "code",
   "execution_count": 56,
   "metadata": {
    "Collapsed": "false"
   },
   "outputs": [
    {
     "data": {
      "text/plain": [
       "'/media/volume1/Eason/Speech_Recognition/End-to-end-ASR-Pytorch/data/LibriSpeech/train-clean-360/548/126959/548-126959-0059.flac'"
      ]
     },
     "execution_count": 56,
     "metadata": {},
     "output_type": "execute_result"
    }
   ],
   "source": [
    "train[0][0]"
   ]
  },
  {
   "cell_type": "code",
   "execution_count": 57,
   "metadata": {
    "Collapsed": "false"
   },
   "outputs": [
    {
     "data": {
      "text/plain": [
       "'/media/volume1/Eason/Speech_Recognition/End-to-end-ASR-Pytorch/data/LibriSpeech/train-clean-360/548/126959/548-126959-0059.trans.txt'"
      ]
     },
     "execution_count": 57,
     "metadata": {},
     "output_type": "execute_result"
    }
   ],
   "source": [
    "train[1][0]"
   ]
  },
  {
   "cell_type": "code",
   "execution_count": 6,
   "metadata": {
    "Collapsed": "false"
   },
   "outputs": [
    {
     "data": {
      "application/vnd.jupyter.widget-view+json": {
       "model_id": "9f10e2986b4f4aee90ef3eb68bd60f87",
       "version_major": 2,
       "version_minor": 0
      },
      "text/plain": [
       "HBox(children=(IntProgress(value=0, max=143679), HTML(value='')))"
      ]
     },
     "metadata": {},
     "output_type": "display_data"
    },
    {
     "name": "stdout",
     "output_type": "stream",
     "text": [
      "\n"
     ]
    }
   ],
   "source": [
    "text = []\n",
    "for i in tqdm(range(len(txt_for_flac))):\n",
    "    fp = open(txt_for_flac[i], \"r\")\n",
    "    lines = fp.readlines()\n",
    "    fp.close()\n",
    "    text.append(lines)"
   ]
  },
  {
   "cell_type": "code",
   "execution_count": 7,
   "metadata": {
    "Collapsed": "false"
   },
   "outputs": [
    {
     "data": {
      "application/vnd.jupyter.widget-view+json": {
       "model_id": "d2281cd148eb438b97d6138efc26f82a",
       "version_major": 2,
       "version_minor": 0
      },
      "text/plain": [
       "HBox(children=(IntProgress(value=0, max=143679), HTML(value='')))"
      ]
     },
     "metadata": {},
     "output_type": "display_data"
    },
    {
     "name": "stdout",
     "output_type": "stream",
     "text": [
      "\n"
     ]
    }
   ],
   "source": [
    "text_str = ''\n",
    "for i in tqdm(range(len(text))):\n",
    "    for j in text[i]:\n",
    "        text_str += j"
   ]
  },
  {
   "cell_type": "code",
   "execution_count": 8,
   "metadata": {
    "Collapsed": "false"
   },
   "outputs": [],
   "source": [
    "unique_word = ''.join(set(text_str))"
   ]
  },
  {
   "cell_type": "code",
   "execution_count": 9,
   "metadata": {
    "Collapsed": "false"
   },
   "outputs": [],
   "source": [
    "ner_labels = []\n",
    "for i in unique_word:\n",
    "    ner_labels.append(i)"
   ]
  },
  {
   "cell_type": "code",
   "execution_count": 11,
   "metadata": {
    "Collapsed": "false"
   },
   "outputs": [],
   "source": [
    "import json\n",
    "\n",
    "data = ner_labels\n",
    "ret = json.dumps(data)\n",
    "\n",
    "with open('../labels/LibriSpeech_ner_labels.json', 'a') as fp:\n",
    "    fp.write(ret)"
   ]
  },
  {
   "cell_type": "code",
   "execution_count": null,
   "metadata": {
    "Collapsed": "false"
   },
   "outputs": [
    {
     "data": {
      "application/vnd.jupyter.widget-view+json": {
       "model_id": "940132a6f9f442c4bd7235ca6c2c7b39",
       "version_major": 2,
       "version_minor": 0
      },
      "text/plain": [
       "HBox(children=(IntProgress(value=0, max=28736), HTML(value='')))"
      ]
     },
     "metadata": {},
     "output_type": "display_data"
    },
    {
     "name": "stdout",
     "output_type": "stream",
     "text": [
      "==================================================\n",
      "/media/volume1/Eason/Speech_Recognition/End-to-end-ASR-Pytorch/data/LibriSpeech/train-clean-100/405/130894/405-130894-0052.flac\n",
      "==================================================\n",
      "==================================================\n",
      "/media/volume1/Eason/Speech_Recognition/End-to-end-ASR-Pytorch/data/LibriSpeech/train-clean-360/7569/102240/7569-102240-0042.flac\n",
      "==================================================\n",
      "==================================================\n",
      "/media/volume1/Eason/Speech_Recognition/End-to-end-ASR-Pytorch/data/LibriSpeech/train-clean-360/2769/176263/2769-176263-0030.flac\n",
      "==================================================\n",
      "==================================================\n",
      "/media/volume1/Eason/Speech_Recognition/End-to-end-ASR-Pytorch/data/LibriSpeech/train-clean-100/2289/152258/2289-152258-0040.flac\n",
      "==================================================\n",
      "==================================================\n",
      "/media/volume1/Eason/Speech_Recognition/End-to-end-ASR-Pytorch/data/LibriSpeech/train-clean-360/6782/61316/6782-61316-0016.flac\n",
      "==================================================\n",
      "==================================================\n",
      "/media/volume1/Eason/Speech_Recognition/End-to-end-ASR-Pytorch/data/LibriSpeech/train-clean-360/594/127731/594-127731-0003.flac\n",
      "==================================================\n",
      "==================================================\n",
      "/media/volume1/Eason/Speech_Recognition/End-to-end-ASR-Pytorch/data/LibriSpeech/train-clean-360/8401/280380/8401-280380-0059.flac\n",
      "==================================================\n",
      "==================================================\n",
      "/media/volume1/Eason/Speech_Recognition/End-to-end-ASR-Pytorch/data/LibriSpeech/train-clean-360/2056/143893/2056-143893-0017.flac\n",
      "==================================================\n",
      "==================================================\n",
      "/media/volume1/Eason/Speech_Recognition/End-to-end-ASR-Pytorch/data/LibriSpeech/train-clean-360/511/131228/511-131228-0035.flac\n",
      "==================================================\n",
      "==================================================\n",
      "/media/volume1/Eason/Speech_Recognition/End-to-end-ASR-Pytorch/data/LibriSpeech/train-clean-360/4734/220951/4734-220951-0030.flac\n",
      "==================================================\n",
      "==================================================\n",
      "/media/volume1/Eason/Speech_Recognition/End-to-end-ASR-Pytorch/data/LibriSpeech/train-clean-360/380/129066/380-129066-0014.flac\n",
      "==================================================\n",
      "==================================================\n",
      "/media/volume1/Eason/Speech_Recognition/End-to-end-ASR-Pytorch/data/LibriSpeech/train-clean-100/2092/145706/2092-145706-0044.flac\n",
      "==================================================\n",
      "==================================================\n",
      "/media/volume1/Eason/Speech_Recognition/End-to-end-ASR-Pytorch/data/LibriSpeech/train-clean-360/2010/147045/2010-147045-0012.flac\n",
      "==================================================\n",
      "==================================================\n",
      "/media/volume1/Eason/Speech_Recognition/End-to-end-ASR-Pytorch/data/LibriSpeech/train-clean-360/4290/14526/4290-14526-0015.flac\n",
      "==================================================\n",
      "==================================================\n",
      "/media/volume1/Eason/Speech_Recognition/End-to-end-ASR-Pytorch/data/LibriSpeech/train-clean-360/274/121382/274-121382-0001.flac\n",
      "==================================================\n",
      "==================================================\n",
      "/media/volume1/Eason/Speech_Recognition/End-to-end-ASR-Pytorch/data/LibriSpeech/train-clean-360/1914/121446/1914-121446-0016.flac\n",
      "==================================================\n",
      "==================================================\n",
      "/media/volume1/Eason/Speech_Recognition/End-to-end-ASR-Pytorch/data/LibriSpeech/train-clean-360/81/121543/81-121543-0004.flac\n",
      "==================================================\n",
      "==================================================\n",
      "/media/volume1/Eason/Speech_Recognition/End-to-end-ASR-Pytorch/data/LibriSpeech/train-clean-360/764/132272/764-132272-0041.flac\n",
      "==================================================\n",
      "==================================================\n",
      "/media/volume1/Eason/Speech_Recognition/End-to-end-ASR-Pytorch/data/LibriSpeech/train-clean-360/4595/45218/4595-45218-0009.flac\n",
      "==================================================\n",
      "==================================================\n",
      "/media/volume1/Eason/Speech_Recognition/End-to-end-ASR-Pytorch/data/LibriSpeech/train-clean-360/3781/156973/3781-156973-0013.flac\n",
      "==================================================\n",
      "==================================================\n",
      "/media/volume1/Eason/Speech_Recognition/End-to-end-ASR-Pytorch/data/LibriSpeech/train-clean-100/6181/216552/6181-216552-0038.flac\n",
      "==================================================\n",
      "==================================================\n",
      "/media/volume1/Eason/Speech_Recognition/End-to-end-ASR-Pytorch/data/LibriSpeech/train-clean-360/4243/14929/4243-14929-0021.flac\n",
      "==================================================\n",
      "==================================================\n",
      "/media/volume1/Eason/Speech_Recognition/End-to-end-ASR-Pytorch/data/LibriSpeech/train-clean-360/2562/133442/2562-133442-0041.flac\n",
      "==================================================\n",
      "==================================================\n",
      "/media/volume1/Eason/Speech_Recognition/End-to-end-ASR-Pytorch/data/LibriSpeech/train-clean-360/4145/34497/4145-34497-0010.flac\n",
      "==================================================\n",
      "==================================================\n",
      "/media/volume1/Eason/Speech_Recognition/End-to-end-ASR-Pytorch/data/LibriSpeech/train-clean-360/2573/186232/2573-186232-0024.flac\n",
      "==================================================\n",
      "==================================================\n",
      "/media/volume1/Eason/Speech_Recognition/End-to-end-ASR-Pytorch/data/LibriSpeech/train-clean-360/1226/141268/1226-141268-0027.flac\n",
      "==================================================\n",
      "==================================================\n",
      "/media/volume1/Eason/Speech_Recognition/End-to-end-ASR-Pytorch/data/LibriSpeech/train-clean-360/3825/134148/3825-134148-0021.flac\n",
      "==================================================\n",
      "==================================================\n",
      "/media/volume1/Eason/Speech_Recognition/End-to-end-ASR-Pytorch/data/LibriSpeech/train-clean-100/7078/271888/7078-271888-0000.flac\n",
      "==================================================\n",
      "==================================================\n",
      "/media/volume1/Eason/Speech_Recognition/End-to-end-ASR-Pytorch/data/LibriSpeech/dev-clean/2078/142845/2078-142845-0006.flac\n",
      "==================================================\n",
      "==================================================\n",
      "/media/volume1/Eason/Speech_Recognition/End-to-end-ASR-Pytorch/data/LibriSpeech/train-clean-360/1289/288044/1289-288044-0050.flac\n",
      "==================================================\n",
      "==================================================\n",
      "/media/volume1/Eason/Speech_Recognition/End-to-end-ASR-Pytorch/data/LibriSpeech/train-clean-100/5163/18515/5163-18515-0030.flac\n",
      "==================================================\n",
      "==================================================\n",
      "/media/volume1/Eason/Speech_Recognition/End-to-end-ASR-Pytorch/data/LibriSpeech/train-clean-360/3483/174132/3483-174132-0026.flac\n",
      "==================================================\n",
      "==================================================\n",
      "/media/volume1/Eason/Speech_Recognition/End-to-end-ASR-Pytorch/data/LibriSpeech/train-clean-100/1447/130550/1447-130550-0024.flac\n",
      "==================================================\n",
      "==================================================\n",
      "/media/volume1/Eason/Speech_Recognition/End-to-end-ASR-Pytorch/data/LibriSpeech/test-clean/3729/6852/3729-6852-0042.flac\n",
      "==================================================\n",
      "==================================================\n",
      "/media/volume1/Eason/Speech_Recognition/End-to-end-ASR-Pytorch/data/LibriSpeech/train-clean-360/1348/135826/1348-135826-0019.flac\n",
      "==================================================\n",
      "==================================================\n",
      "/media/volume1/Eason/Speech_Recognition/End-to-end-ASR-Pytorch/data/LibriSpeech/train-clean-360/637/127579/637-127579-0003.flac\n",
      "==================================================\n",
      "==================================================\n",
      "/media/volume1/Eason/Speech_Recognition/End-to-end-ASR-Pytorch/data/LibriSpeech/train-clean-360/1806/143948/1806-143948-0032.flac\n",
      "==================================================\n",
      "==================================================\n",
      "/media/volume1/Eason/Speech_Recognition/End-to-end-ASR-Pytorch/data/LibriSpeech/train-clean-360/4629/19366/4629-19366-0042.flac\n",
      "==================================================\n",
      "==================================================\n",
      "/media/volume1/Eason/Speech_Recognition/End-to-end-ASR-Pytorch/data/LibriSpeech/train-clean-100/78/368/78-368-0052.flac\n",
      "==================================================\n",
      "==================================================\n",
      "/media/volume1/Eason/Speech_Recognition/End-to-end-ASR-Pytorch/data/LibriSpeech/train-clean-360/2971/4275/2971-4275-0082.flac\n",
      "==================================================\n",
      "==================================================\n",
      "/media/volume1/Eason/Speech_Recognition/End-to-end-ASR-Pytorch/data/LibriSpeech/test-other/3997/182399/3997-182399-0007.flac\n",
      "==================================================\n",
      "==================================================\n",
      "/media/volume1/Eason/Speech_Recognition/End-to-end-ASR-Pytorch/data/LibriSpeech/train-clean-360/3686/171133/3686-171133-0063.flac\n",
      "==================================================\n",
      "==================================================\n",
      "/media/volume1/Eason/Speech_Recognition/End-to-end-ASR-Pytorch/data/LibriSpeech/train-clean-100/2436/2476/2436-2476-0026.flac\n",
      "==================================================\n",
      "==================================================\n",
      "/media/volume1/Eason/Speech_Recognition/End-to-end-ASR-Pytorch/data/LibriSpeech/train-clean-360/2085/147971/2085-147971-0034.flac\n",
      "==================================================\n",
      "==================================================\n",
      "/media/volume1/Eason/Speech_Recognition/End-to-end-ASR-Pytorch/data/LibriSpeech/train-clean-360/112/121671/112-121671-0028.flac\n",
      "==================================================\n",
      "==================================================\n",
      "/media/volume1/Eason/Speech_Recognition/End-to-end-ASR-Pytorch/data/LibriSpeech/train-clean-360/4257/6397/4257-6397-0004.flac\n",
      "==================================================\n",
      "==================================================\n",
      "/media/volume1/Eason/Speech_Recognition/End-to-end-ASR-Pytorch/data/LibriSpeech/train-clean-360/1365/134804/1365-134804-0023.flac\n",
      "==================================================\n",
      "==================================================\n",
      "/media/volume1/Eason/Speech_Recognition/End-to-end-ASR-Pytorch/data/LibriSpeech/train-clean-100/441/130108/441-130108-0022.flac\n",
      "==================================================\n",
      "==================================================\n",
      "/media/volume1/Eason/Speech_Recognition/End-to-end-ASR-Pytorch/data/LibriSpeech/train-clean-360/1571/138486/1571-138486-0035.flac\n",
      "==================================================\n",
      "==================================================\n",
      "/media/volume1/Eason/Speech_Recognition/End-to-end-ASR-Pytorch/data/LibriSpeech/train-clean-360/409/124990/409-124990-0031.flac\n",
      "==================================================\n",
      "==================================================\n",
      "/media/volume1/Eason/Speech_Recognition/End-to-end-ASR-Pytorch/data/LibriSpeech/train-clean-360/8113/301694/8113-301694-0025.flac\n",
      "==================================================\n",
      "==================================================\n",
      "/media/volume1/Eason/Speech_Recognition/End-to-end-ASR-Pytorch/data/LibriSpeech/train-clean-360/3340/169293/3340-169293-0047.flac\n",
      "==================================================\n",
      "==================================================\n",
      "/media/volume1/Eason/Speech_Recognition/End-to-end-ASR-Pytorch/data/LibriSpeech/train-clean-360/7460/92002/7460-92002-0007.flac\n",
      "==================================================\n",
      "==================================================\n",
      "/media/volume1/Eason/Speech_Recognition/End-to-end-ASR-Pytorch/data/LibriSpeech/train-clean-360/1259/27120/1259-27120-0027.flac\n",
      "==================================================\n",
      "==================================================\n",
      "/media/volume1/Eason/Speech_Recognition/End-to-end-ASR-Pytorch/data/LibriSpeech/train-clean-100/5463/39173/5463-39173-0001.flac\n",
      "==================================================\n",
      "==================================================\n",
      "/media/volume1/Eason/Speech_Recognition/End-to-end-ASR-Pytorch/data/LibriSpeech/train-clean-360/1845/145088/1845-145088-0006.flac\n",
      "==================================================\n",
      "==================================================\n",
      "/media/volume1/Eason/Speech_Recognition/End-to-end-ASR-Pytorch/data/LibriSpeech/train-clean-360/2393/144496/2393-144496-0080.flac\n",
      "==================================================\n",
      "==================================================\n",
      "/media/volume1/Eason/Speech_Recognition/End-to-end-ASR-Pytorch/data/LibriSpeech/train-clean-360/589/139200/589-139200-0013.flac\n",
      "==================================================\n",
      "==================================================\n",
      "/media/volume1/Eason/Speech_Recognition/End-to-end-ASR-Pytorch/data/LibriSpeech/train-clean-100/2911/15045/2911-15045-0012.flac\n",
      "==================================================\n"
     ]
    }
   ],
   "source": [
    "import torchaudio\n",
    "for i in tqdm(range(len(test[0][:5]))):\n",
    "    try:\n",
    "        path = test[0][i]\n",
    "        sound, _ = torchaudio.load(path, normalization=True)\n",
    "    except:\n",
    "        print('='*50)\n",
    "        print(path)\n",
    "        print('='*50)"
   ]
  },
  {
   "cell_type": "code",
   "execution_count": null,
   "metadata": {
    "Collapsed": "false"
   },
   "outputs": [],
   "source": []
  }
 ],
 "metadata": {
  "kernelspec": {
   "display_name": "Python 3",
   "language": "python",
   "name": "python3"
  },
  "language_info": {
   "codemirror_mode": {
    "name": "ipython",
    "version": 3
   },
   "file_extension": ".py",
   "mimetype": "text/x-python",
   "name": "python",
   "nbconvert_exporter": "python",
   "pygments_lexer": "ipython3",
   "version": "3.6.9"
  }
 },
 "nbformat": 4,
 "nbformat_minor": 4
}
